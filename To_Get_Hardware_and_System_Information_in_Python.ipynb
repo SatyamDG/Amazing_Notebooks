{
  "nbformat": 4,
  "nbformat_minor": 0,
  "metadata": {
    "colab": {
      "name": "to Get Hardware and System Information in Python.ipynb",
      "provenance": [],
      "collapsed_sections": [],
      "include_colab_link": true
    },
    "kernelspec": {
      "name": "python3",
      "display_name": "Python 3"
    }
  },
  "cells": [
    {
      "cell_type": "markdown",
      "metadata": {
        "id": "view-in-github",
        "colab_type": "text"
      },
      "source": [
        "<a href=\"https://colab.research.google.com/github/SatyamDG/Amazing_Notebooks/blob/master/To_Get_Hardware_and_System_Information_in_Python.ipynb\" target=\"_parent\"><img src=\"https://colab.research.google.com/assets/colab-badge.svg\" alt=\"Open In Colab\"/></a>"
      ]
    },
    {
      "cell_type": "code",
      "metadata": {
        "id": "uuYGBNOyJJWE",
        "colab_type": "code",
        "colab": {
          "base_uri": "https://localhost:8080/",
          "height": 34
        },
        "outputId": "91aa2816-3519-407c-ca74-37565c62df5b"
      },
      "source": [
        "!pip3 install psutil\n"
      ],
      "execution_count": 25,
      "outputs": [
        {
          "output_type": "stream",
          "text": [
            "Requirement already satisfied: psutil in /usr/local/lib/python3.6/dist-packages (5.4.8)\n"
          ],
          "name": "stdout"
        }
      ]
    },
    {
      "cell_type": "code",
      "metadata": {
        "id": "WhrxLpxSJPDU",
        "colab_type": "code",
        "colab": {}
      },
      "source": [
        "import psutil\n",
        "import platform\n",
        "from datetime import datetime"
      ],
      "execution_count": 0,
      "outputs": []
    },
    {
      "cell_type": "code",
      "metadata": {
        "id": "lRElCmeMJUfB",
        "colab_type": "code",
        "colab": {}
      },
      "source": [
        "def get_size(bytes, suffix=\"B\"):\n",
        "    \"\"\"\n",
        "    Scale bytes to its proper format\n",
        "    e.g:\n",
        "        1253656 => '1.20MB'\n",
        "        1253656678 => '1.17GB'\n",
        "    \"\"\"\n",
        "    factor = 1024\n",
        "    for unit in [\"\", \"K\", \"M\", \"G\", \"T\", \"P\"]:\n",
        "        if bytes < factor:\n",
        "            return f\"{bytes:.2f}{unit}{suffix}\"\n",
        "        bytes /= factor"
      ],
      "execution_count": 0,
      "outputs": []
    },
    {
      "cell_type": "markdown",
      "metadata": {
        "id": "jiix9wNhJbyo",
        "colab_type": "text"
      },
      "source": [
        "System Information"
      ]
    },
    {
      "cell_type": "code",
      "metadata": {
        "id": "IothgZKIJY8w",
        "colab_type": "code",
        "colab": {
          "base_uri": "https://localhost:8080/",
          "height": 136
        },
        "outputId": "0a1947af-e931-470e-9075-dbdc21f1983d"
      },
      "source": [
        "print(\"=\"*40, \"System Information\", \"=\"*40)\n",
        "uname = platform.uname()\n",
        "print(f\"System: {uname.system}\")\n",
        "print(f\"Node Name: {uname.node}\")\n",
        "print(f\"Release: {uname.release}\")\n",
        "print(f\"Version: {uname.version}\")\n",
        "print(f\"Machine: {uname.machine}\")\n",
        "print(f\"Processor: {uname.processor}\")"
      ],
      "execution_count": 28,
      "outputs": [
        {
          "output_type": "stream",
          "text": [
            "======================================== System Information ========================================\n",
            "System: Linux\n",
            "Node Name: fefecfa60ce7\n",
            "Release: 4.14.137+\n",
            "Version: #1 SMP Thu Aug 8 02:47:02 PDT 2019\n",
            "Machine: x86_64\n",
            "Processor: x86_64\n"
          ],
          "name": "stdout"
        }
      ]
    },
    {
      "cell_type": "markdown",
      "metadata": {
        "id": "tb3Mj6_WJmJ8",
        "colab_type": "text"
      },
      "source": [
        "Getting the date and time the computer was booted:"
      ]
    },
    {
      "cell_type": "code",
      "metadata": {
        "id": "Q5OaJxYcJmzq",
        "colab_type": "code",
        "colab": {
          "base_uri": "https://localhost:8080/",
          "height": 51
        },
        "outputId": "d979286d-4323-41f5-8e9a-facc1d01b384"
      },
      "source": [
        "# Boot Time\n",
        "print(\"=\"*40, \"Boot Time\", \"=\"*40)\n",
        "boot_time_timestamp = psutil.boot_time()\n",
        "bt = datetime.fromtimestamp(boot_time_timestamp)\n",
        "print(f\"Boot Time: {bt.year}/{bt.month}/{bt.day} {bt.hour}:{bt.minute}:{bt.second}\")"
      ],
      "execution_count": 29,
      "outputs": [
        {
          "output_type": "stream",
          "text": [
            "======================================== Boot Time ========================================\n",
            "Boot Time: 2019/12/30 14:9:17\n"
          ],
          "name": "stdout"
        }
      ]
    },
    {
      "cell_type": "markdown",
      "metadata": {
        "id": "fzW6CdhOJuRc",
        "colab_type": "text"
      },
      "source": [
        "CPU Information"
      ]
    },
    {
      "cell_type": "code",
      "metadata": {
        "id": "nhlhBupNJvM7",
        "colab_type": "code",
        "colab": {
          "base_uri": "https://localhost:8080/",
          "height": 136
        },
        "outputId": "86f7b6e7-240a-4088-e834-5298e289f7a7"
      },
      "source": [
        "# let's print CPU information\n",
        "print(\"=\"*40, \"CPU Info\", \"=\"*40)\n",
        "# number of cores\n",
        "print(\"Physical cores:\", psutil.cpu_count(logical=False))\n",
        "print(\"Total cores:\", psutil.cpu_count(logical=True))\n",
        "\n",
        "# CPU usage\n",
        "print(\"CPU Usage Per Core:\")\n",
        "for i, percentage in enumerate(psutil.cpu_percent(percpu=True)):\n",
        "    print(f\"Core {i}: {percentage}%\")\n",
        "print(f\"Total CPU Usage: {psutil.cpu_percent()}%\")"
      ],
      "execution_count": 30,
      "outputs": [
        {
          "output_type": "stream",
          "text": [
            "======================================== CPU Info ========================================\n",
            "Physical cores: 1\n",
            "Total cores: 2\n",
            "CPU Usage Per Core:\n",
            "Core 0: 1.2%\n",
            "Core 1: 1.0%\n",
            "Total CPU Usage: 1.1%\n"
          ],
          "name": "stdout"
        }
      ]
    },
    {
      "cell_type": "markdown",
      "metadata": {
        "id": "4sgw8aYhJ_hP",
        "colab_type": "text"
      },
      "source": [
        "Memory Usage"
      ]
    },
    {
      "cell_type": "code",
      "metadata": {
        "id": "dxvvuYz1KAGe",
        "colab_type": "code",
        "colab": {
          "base_uri": "https://localhost:8080/",
          "height": 187
        },
        "outputId": "0781f827-70de-4717-b69a-bed4989cd6b1"
      },
      "source": [
        "# Memory Information\n",
        "print(\"=\"*40, \"Memory Information\", \"=\"*40)\n",
        "# get the memory details\n",
        "svmem = psutil.virtual_memory()\n",
        "print(f\"Total: {get_size(svmem.total)}\")\n",
        "print(f\"Available: {get_size(svmem.available)}\")\n",
        "print(f\"Used: {get_size(svmem.used)}\")\n",
        "print(f\"Percentage: {svmem.percent}%\")\n",
        "print(\"=\"*20, \"SWAP\", \"=\"*20)\n",
        "# get the swap memory details (if exists)\n",
        "swap = psutil.swap_memory()\n",
        "print(f\"Total: {get_size(swap.total)}\")\n",
        "print(f\"Free: {get_size(swap.free)}\")\n",
        "print(f\"Used: {get_size(swap.used)}\")\n",
        "print(f\"Percentage: {swap.percent}%\")"
      ],
      "execution_count": 31,
      "outputs": [
        {
          "output_type": "stream",
          "text": [
            "======================================== Memory Information ========================================\n",
            "Total: 12.72GB\n",
            "Available: 11.95GB\n",
            "Used: 516.23MB\n",
            "Percentage: 6.0%\n",
            "==================== SWAP ====================\n",
            "Total: 0.00B\n",
            "Free: 0.00B\n",
            "Used: 0.00B\n",
            "Percentage: 0%\n"
          ],
          "name": "stdout"
        }
      ]
    },
    {
      "cell_type": "markdown",
      "metadata": {
        "id": "LZsUSDw3KEW2",
        "colab_type": "text"
      },
      "source": [
        "Disk Usage"
      ]
    },
    {
      "cell_type": "code",
      "metadata": {
        "id": "z3fEDMypKGql",
        "colab_type": "code",
        "colab": {
          "base_uri": "https://localhost:8080/",
          "height": 442
        },
        "outputId": "161a9951-2d6c-4ab1-f54e-02ab79d29ec2"
      },
      "source": [
        "# Disk Information\n",
        "print(\"=\"*40, \"Disk Information\", \"=\"*40)\n",
        "print(\"Partitions and Usage:\")\n",
        "# get all disk partitions\n",
        "partitions = psutil.disk_partitions()\n",
        "for partition in partitions:\n",
        "    print(f\"=== Device: {partition.device} ===\")\n",
        "    print(f\"  Mountpoint: {partition.mountpoint}\")\n",
        "    print(f\"  File system type: {partition.fstype}\")\n",
        "    try:\n",
        "        partition_usage = psutil.disk_usage(partition.mountpoint)\n",
        "    except PermissionError:\n",
        "        # this can be catched due to the disk that\n",
        "        # isn't ready\n",
        "        continue\n",
        "    print(f\"  Total Size: {get_size(partition_usage.total)}\")\n",
        "    print(f\"  Used: {get_size(partition_usage.used)}\")\n",
        "    print(f\"  Free: {get_size(partition_usage.free)}\")\n",
        "    print(f\"  Percentage: {partition_usage.percent}%\")\n",
        "# get IO statistics since boot\n",
        "disk_io = psutil.disk_io_counters()\n",
        "print(f\"Total read: {get_size(disk_io.read_bytes)}\")\n",
        "print(f\"Total write: {get_size(disk_io.write_bytes)}\")"
      ],
      "execution_count": 32,
      "outputs": [
        {
          "output_type": "stream",
          "text": [
            "======================================== Disk Information ========================================\n",
            "Partitions and Usage:\n",
            "=== Device: /dev/sda1 ===\n",
            "  Mountpoint: /etc/resolv.conf\n",
            "  File system type: ext4\n",
            "  Total Size: 113.98GB\n",
            "  Used: 29.29GB\n",
            "  Free: 84.67GB\n",
            "  Percentage: 25.7%\n",
            "=== Device: /dev/sda1 ===\n",
            "  Mountpoint: /etc/hostname\n",
            "  File system type: ext4\n",
            "  Total Size: 113.98GB\n",
            "  Used: 29.29GB\n",
            "  Free: 84.67GB\n",
            "  Percentage: 25.7%\n",
            "=== Device: /dev/sda1 ===\n",
            "  Mountpoint: /etc/hosts\n",
            "  File system type: ext4\n",
            "  Total Size: 113.98GB\n",
            "  Used: 29.29GB\n",
            "  Free: 84.67GB\n",
            "  Percentage: 25.7%\n",
            "Total read: 1.97GB\n",
            "Total write: 37.50MB\n"
          ],
          "name": "stdout"
        }
      ]
    },
    {
      "cell_type": "markdown",
      "metadata": {
        "id": "AAIph-jdKUSM",
        "colab_type": "text"
      },
      "source": [
        "Network Information"
      ]
    },
    {
      "cell_type": "code",
      "metadata": {
        "id": "lYXqrec7KU1K",
        "colab_type": "code",
        "colab": {
          "base_uri": "https://localhost:8080/",
          "height": 340
        },
        "outputId": "9b296105-5423-45a3-8eb8-94e88fe68268"
      },
      "source": [
        "# Network information\n",
        "print(\"=\"*40, \"Network Information\", \"=\"*40)\n",
        "# get all network interfaces (virtual and physical)\n",
        "if_addrs = psutil.net_if_addrs()\n",
        "for interface_name, interface_addresses in if_addrs.items():\n",
        "    for address in interface_addresses:\n",
        "        print(f\"=== Interface: {interface_name} ===\")\n",
        "        if str(address.family) == 'AddressFamily.AF_INET':\n",
        "            print(f\"  IP Address: {address.address}\")\n",
        "            print(f\"  Netmask: {address.netmask}\")\n",
        "            print(f\"  Broadcast IP: {address.broadcast}\")\n",
        "        elif str(address.family) == 'AddressFamily.AF_PACKET':\n",
        "            print(f\"  MAC Address: {address.address}\")\n",
        "            print(f\"  Netmask: {address.netmask}\")\n",
        "            print(f\"  Broadcast MAC: {address.broadcast}\")\n",
        "# get IO statistics since boot\n",
        "net_io = psutil.net_io_counters()\n",
        "print(f\"Total Bytes Sent: {get_size(net_io.bytes_sent)}\")\n",
        "print(f\"Total Bytes Received: {get_size(net_io.bytes_recv)}\")"
      ],
      "execution_count": 33,
      "outputs": [
        {
          "output_type": "stream",
          "text": [
            "======================================== Network Information ========================================\n",
            "=== Interface: lo ===\n",
            "  IP Address: 127.0.0.1\n",
            "  Netmask: 255.0.0.0\n",
            "  Broadcast IP: None\n",
            "=== Interface: lo ===\n",
            "  MAC Address: 00:00:00:00:00:00\n",
            "  Netmask: None\n",
            "  Broadcast MAC: None\n",
            "=== Interface: eth0 ===\n",
            "  IP Address: 172.28.0.2\n",
            "  Netmask: 255.255.0.0\n",
            "  Broadcast IP: 172.28.255.255\n",
            "=== Interface: eth0 ===\n",
            "  MAC Address: 02:42:ac:1c:00:02\n",
            "  Netmask: None\n",
            "  Broadcast MAC: ff:ff:ff:ff:ff:ff\n",
            "Total Bytes Sent: 1.18MB\n",
            "Total Bytes Received: 1.20MB\n"
          ],
          "name": "stdout"
        }
      ]
    }
  ]
}